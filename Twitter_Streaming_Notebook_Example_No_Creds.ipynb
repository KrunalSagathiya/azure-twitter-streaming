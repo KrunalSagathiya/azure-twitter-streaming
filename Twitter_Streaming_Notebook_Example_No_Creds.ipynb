{
  "cells": [
    {
      "metadata": {
        "trusted": true
      },
      "cell_type": "code",
      "source": "import azure\nimport azure.eventhub\nimport os\nfrom azure.eventhub import EventHubClient\nimport tweepy",
      "execution_count": 22,
      "outputs": []
    },
    {
      "metadata": {
        "trusted": true
      },
      "cell_type": "code",
      "source": "#!pip install azure-eventhub==1.3.2",
      "execution_count": null,
      "outputs": []
    },
    {
      "metadata": {
        "trusted": true
      },
      "cell_type": "code",
      "source": "#!pip install tweepy",
      "execution_count": null,
      "outputs": []
    },
    {
      "metadata": {
        "trusted": true
      },
      "cell_type": "code",
      "source": "#!pip install azure==4.0.0",
      "execution_count": null,
      "outputs": []
    },
    {
      "metadata": {},
      "cell_type": "markdown",
      "source": "## Auth credentials"
    },
    {
      "metadata": {
        "trusted": true
      },
      "cell_type": "code",
      "source": "# Azure event hub creds\nnamespace_name = ''\nevent_hub_name = ''\nsas_key_name = '' # Your Event Hub security key name\nsas_key = '' # Your connection string",
      "execution_count": 17,
      "outputs": []
    },
    {
      "metadata": {
        "trusted": true
      },
      "cell_type": "code",
      "source": "# Twitter App creds\nCONSUMER_KEY = ''\nCONSUMER_SECRET = ''\nACCESS_KEY = ''\nACCESS_SECRET = ''",
      "execution_count": 18,
      "outputs": []
    },
    {
      "metadata": {},
      "cell_type": "markdown",
      "source": "## Twitter Authentication"
    },
    {
      "metadata": {
        "trusted": true
      },
      "cell_type": "code",
      "source": "`# Set Auth creds for Twitter\nauth = tweepy.OAuthHandler(CONSUMER_KEY, CONSUMER_SECRET)",
      "execution_count": 24,
      "outputs": []
    },
    {
      "metadata": {
        "trusted": true
      },
      "cell_type": "code",
      "source": "# Get auth url\ntry:\n    redirect_url = auth.get_authorization_url()\nexcept tweepy.TweepError:\n    print('Error! Failed to get request token.')",
      "execution_count": 26,
      "outputs": []
    },
    {
      "metadata": {
        "trusted": true
      },
      "cell_type": "code",
      "source": "# Create request token\nREQUEST_TOKEN = auth.request_token",
      "execution_count": 29,
      "outputs": []
    },
    {
      "metadata": {
        "trusted": true
      },
      "cell_type": "code",
      "source": "# Set access creds\nauth.set_access_token(ACCESS_KEY, ACCESS_SECRET)",
      "execution_count": 32,
      "outputs": []
    },
    {
      "metadata": {
        "trusted": true
      },
      "cell_type": "code",
      "source": "# Get Twitter API with auth\napi = tweepy.API(auth)",
      "execution_count": 33,
      "outputs": []
    },
    {
      "metadata": {},
      "cell_type": "markdown",
      "source": "## Set up Twitter stream listener "
    },
    {
      "metadata": {
        "trusted": true
      },
      "cell_type": "code",
      "source": "# Create connection to Twitter?\nclass MyStreamListener(tweepy.StreamListener):\n    def on_status(self, status):\n        print(status.text)",
      "execution_count": 23,
      "outputs": []
    },
    {
      "metadata": {
        "trusted": true
      },
      "cell_type": "code",
      "source": "# Instantiate stream listener\nmyStreamListener = MyStreamListener()\nmyStream = tweepy.Stream(auth = api.auth, listener=myStreamListener)",
      "execution_count": 46,
      "outputs": []
    },
    {
      "metadata": {
        "trusted": true
      },
      "cell_type": "code",
      "source": "twitter_stream = myStream.filter(track=['monzo'], is_async = True)",
      "execution_count": 47,
      "outputs": []
    },
    {
      "metadata": {},
      "cell_type": "markdown",
      "source": "## Send Twitter Stream to Event Hub"
    },
    {
      "metadata": {
        "trusted": true
      },
      "cell_type": "code",
      "source": "# Connect to EventHub Client\nclient = EventHubClient.from_connection_string(sas_key)",
      "execution_count": 50,
      "outputs": []
    },
    {
      "metadata": {
        "trusted": true
      },
      "cell_type": "code",
      "source": "sender = client.add_sender()\n\ntry:\n    client.run()\n    event_data = twitter_stream\n    sender.send(event_data)\nexcept:\n    raise\nfinally:\n    client.stop()",
      "execution_count": 52,
      "outputs": [
        {
          "output_type": "error",
          "ename": "AttributeError",
          "evalue": "'NoneType' object has no attribute 'partition_key'",
          "traceback": [
            "\u001b[0;31m---------------------------------------------------------------------------\u001b[0m",
            "\u001b[0;31mAttributeError\u001b[0m                            Traceback (most recent call last)",
            "\u001b[0;32m<ipython-input-52-c64072bd53b4>\u001b[0m in \u001b[0;36m<module>\u001b[0;34m\u001b[0m\n\u001b[1;32m      4\u001b[0m     \u001b[0mclient\u001b[0m\u001b[0;34m.\u001b[0m\u001b[0mrun\u001b[0m\u001b[0;34m(\u001b[0m\u001b[0;34m)\u001b[0m\u001b[0;34m\u001b[0m\u001b[0m\n\u001b[1;32m      5\u001b[0m     \u001b[0mevent_data\u001b[0m \u001b[0;34m=\u001b[0m \u001b[0mtwitter_stream\u001b[0m\u001b[0;34m\u001b[0m\u001b[0m\n\u001b[0;32m----> 6\u001b[0;31m     \u001b[0msender\u001b[0m\u001b[0;34m.\u001b[0m\u001b[0msend\u001b[0m\u001b[0;34m(\u001b[0m\u001b[0mevent_data\u001b[0m\u001b[0;34m)\u001b[0m\u001b[0;34m\u001b[0m\u001b[0m\n\u001b[0m\u001b[1;32m      7\u001b[0m \u001b[0;32mexcept\u001b[0m\u001b[0;34m:\u001b[0m\u001b[0;34m\u001b[0m\u001b[0m\n\u001b[1;32m      8\u001b[0m     \u001b[0;32mraise\u001b[0m\u001b[0;34m\u001b[0m\u001b[0m\n",
            "\u001b[0;32m~/anaconda3_501/lib/python3.6/site-packages/azure/eventhub/sender.py\u001b[0m in \u001b[0;36msend\u001b[0;34m(self, event_data)\u001b[0m\n\u001b[1;32m    261\u001b[0m         \u001b[0;32mif\u001b[0m \u001b[0;32mnot\u001b[0m \u001b[0mself\u001b[0m\u001b[0;34m.\u001b[0m\u001b[0mrunning\u001b[0m\u001b[0;34m:\u001b[0m\u001b[0;34m\u001b[0m\u001b[0m\n\u001b[1;32m    262\u001b[0m             \u001b[0;32mraise\u001b[0m \u001b[0mValueError\u001b[0m\u001b[0;34m(\u001b[0m\u001b[0;34m\"Unable to send until client has been started.\"\u001b[0m\u001b[0;34m)\u001b[0m\u001b[0;34m\u001b[0m\u001b[0m\n\u001b[0;32m--> 263\u001b[0;31m         \u001b[0;32mif\u001b[0m \u001b[0mevent_data\u001b[0m\u001b[0;34m.\u001b[0m\u001b[0mpartition_key\u001b[0m \u001b[0;32mand\u001b[0m \u001b[0mself\u001b[0m\u001b[0;34m.\u001b[0m\u001b[0mpartition\u001b[0m\u001b[0;34m:\u001b[0m\u001b[0;34m\u001b[0m\u001b[0m\n\u001b[0m\u001b[1;32m    264\u001b[0m             \u001b[0;32mraise\u001b[0m \u001b[0mValueError\u001b[0m\u001b[0;34m(\u001b[0m\u001b[0;34m\"EventData partition key cannot be used with a partition sender.\"\u001b[0m\u001b[0;34m)\u001b[0m\u001b[0;34m\u001b[0m\u001b[0m\n\u001b[1;32m    265\u001b[0m         \u001b[0mevent_data\u001b[0m\u001b[0;34m.\u001b[0m\u001b[0mmessage\u001b[0m\u001b[0;34m.\u001b[0m\u001b[0mon_send_complete\u001b[0m \u001b[0;34m=\u001b[0m \u001b[0mself\u001b[0m\u001b[0;34m.\u001b[0m\u001b[0m_on_outcome\u001b[0m\u001b[0;34m\u001b[0m\u001b[0m\n",
            "\u001b[0;31mAttributeError\u001b[0m: 'NoneType' object has no attribute 'partition_key'"
          ]
        },
        {
          "output_type": "stream",
          "text": "I first got a @monzo account purely for when I go abroad. Now I use it every single day and have to say that I'm im… https://t.co/EuuJqvZAhs\nI first got a @monzo account purely for when I go abroad. Now I use it every single day and have to say that I'm im… https://t.co/EuuJqvZAhs\nRT @SpoilMissC: Follow, subscribe, tip, tribute ✨\n\nhttps://t.co/MiPecmTptT\n\nhttps://t.co/6BMGDVJjcm\n\nCashapp - £SpoilMiss \n\nAmazon UK - che…\nRT @SpoilMissC: Follow, subscribe, tip, tribute ✨\n\nhttps://t.co/MiPecmTptT\n\nhttps://t.co/6BMGDVJjcm\n\nCashapp - £SpoilMiss \n\nAmazon UK - che…\nIn #FinancialServ 🌍, #fintechs are winning! \n\n@nubank @RevolutApp @monzo are challenging conventions and getting mo… https://t.co/oKbi1ORxon\nIn #FinancialServ 🌍, #fintechs are winning! \n\n@nubank @RevolutApp @monzo are challenging conventions and getting mo… https://t.co/oKbi1ORxon\nGuy in @sainsburys just told me there’s a minimum spend to use my @monzo card contactless.... this can’t be true?! 🤔 https://t.co/nmfdrMDD5s\nGuy in @sainsburys just told me there’s a minimum spend to use my @monzo card contactless.... this can’t be true?! 🤔 https://t.co/nmfdrMDD5s\n@saywallahifam SAME OMG are you with monzo\n@saywallahifam SAME OMG are you with monzo\ntest monzo\ntest monzo\nRT @Alexacole_xo: @BigTunaInc @GirlxoBabii @HotPromotes @MyFriendonCam Initial tritube before DM via \nhttps://t.co/Tmi64OTfRG\nhttps://t.co/…\nRT @Alexacole_xo: @BigTunaInc @GirlxoBabii @HotPromotes @MyFriendonCam Initial tritube before DM via \nhttps://t.co/Tmi64OTfRG\nhttps://t.co/…\nGoing to need @monzo to launch business banking asap please\nGoing to need @monzo to launch business banking asap please\nRT @Alexacole_xo: @LHickman360 Most recent \nInitial truitibe before message \nhttps://t.co/Tmi64OTfRG\nhttps://t.co/geg2lzcJWJ https://t.co/7…\nRT @Alexacole_xo: @LHickman360 Most recent \nInitial truitibe before message \nhttps://t.co/Tmi64OTfRG\nhttps://t.co/geg2lzcJWJ https://t.co/7…\nRT @Alexacole_xo: For those good boys who actually follower my only fans comment down below what content you wanna see 😗\nhttps://t.co/geg2l…\nRT @Alexacole_xo: For those good boys who actually follower my only fans comment down below what content you wanna see 😗\nhttps://t.co/geg2l…\nRT @Alexacole_xo: Reimburse my food piggys simple task \nhttps://t.co/Tmi64OTfRG\n@BigTunaInc @Kevluvass @RobertGiguere59 @Royalty_Femdom @Ro…\nRT @Alexacole_xo: Reimburse my food piggys simple task \nhttps://t.co/Tmi64OTfRG\n@BigTunaInc @Kevluvass @RobertGiguere59 @Royalty_Femdom @Ro…\nRT @Alexacole_xo: Oh I haven't replied to your direct message maybe if you tritube first then I might even acknowledge your existence 😂\nhtt…\nRT @Alexacole_xo: Oh I haven't replied to your direct message maybe if you tritube first then I might even acknowledge your existence 😂\nhtt…\nRT @Alexacole_xo: So I've got 500 followers 😙\nGet sending my good boys \n£5/£50/£500 \nhttps://t.co/Tmi64OTfRG\n\nhttps://t.co/geg2lzcJWJ\n\n@Big…\nRT @Alexacole_xo: So I've got 500 followers 😙\nGet sending my good boys \n£5/£50/£500 \nhttps://t.co/Tmi64OTfRG\n\nhttps://t.co/geg2lzcJWJ\n\n@Big…\n@Sam_A_S @monzo I moved everything across to it - salary/direct debit etc and think it's brilliant\n@Sam_A_S @monzo I moved everything across to it - salary/direct debit etc and think it's brilliant\nOh. Flex.\nOh. Flex.\n@alexdeutsch @monzo I've considered moving my account across from my standard high street bank. I transfer everythi… https://t.co/Lcwsb8nouv\n@alexdeutsch @monzo I've considered moving my account across from my standard high street bank. I transfer everythi… https://t.co/Lcwsb8nouv\n@monzo Seems like it’s been de cluttered and has a ‘lighter touch’ feel to it\n@monzo Seems like it’s been de cluttered and has a ‘lighter touch’ feel to it\n",
          "name": "stdout"
        }
      ]
    },
    {
      "metadata": {
        "trusted": true
      },
      "cell_type": "code",
      "source": "",
      "execution_count": null,
      "outputs": []
    }
  ],
  "metadata": {
    "kernelspec": {
      "name": "python36",
      "display_name": "Python 3.6",
      "language": "python"
    },
    "language_info": {
      "mimetype": "text/x-python",
      "nbconvert_exporter": "python",
      "name": "python",
      "pygments_lexer": "ipython3",
      "version": "3.6.6",
      "file_extension": ".py",
      "codemirror_mode": {
        "version": 3,
        "name": "ipython"
      }
    }
  },
  "nbformat": 4,
  "nbformat_minor": 2
}